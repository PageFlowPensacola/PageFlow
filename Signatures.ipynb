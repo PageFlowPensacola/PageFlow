{
 "cells": [
  {
   "cell_type": "code",
   "execution_count": 35,
   "id": "0fc8da07-e1fe-41f6-a936-59930689233b",
   "metadata": {},
   "outputs": [],
   "source": [
    "import cv2\n",
    "from skimage import measure, color\n",
    "import matplotlib.pyplot as plt"
   ]
  },
  {
   "cell_type": "code",
   "execution_count": 7,
   "id": "391756f6-4d97-4cdc-a73d-5937f7d58fe6",
   "metadata": {},
   "outputs": [],
   "source": [
    "testRect = {\n",
    "    \"audit_type\": \"rect\",\n",
    "    \"id\": 27,\n",
    "    \"page_number\": 1,\n",
    "    \"template_signatory_id\": 10,\n",
    "    \"x1\": 0.122898037659841,\n",
    "    \"x2\": 0.169011505478072,\n",
    "    \"y1\": 0.912442396313364,\n",
    "    \"y2\": 0.943205053865169\n",
    "}"
   ]
  },
  {
   "cell_type": "code",
   "execution_count": 9,
   "id": "20b3308d-544c-4c15-9d4c-cbba1c49173c",
   "metadata": {},
   "outputs": [],
   "source": [
    "source_image = cv2.imread(\"test_files/VacantLandContract - Signed [1] (1)-0.png\")\n"
   ]
  },
  {
   "cell_type": "code",
   "execution_count": 10,
   "id": "58a0870b-062b-4a83-aafd-9095f81c3270",
   "metadata": {},
   "outputs": [
    {
     "data": {
      "text/plain": [
       "(792, 612, 3)"
      ]
     },
     "execution_count": 10,
     "metadata": {},
     "output_type": "execute_result"
    }
   ],
   "source": [
    "source_image.shape"
   ]
  },
  {
   "cell_type": "code",
   "execution_count": 90,
   "id": "143f2d5f-abdb-4c34-b055-31989d4eebf0",
   "metadata": {},
   "outputs": [],
   "source": [
    "img = cv2.cvtColor(source_image, cv2.COLOR_BGR2GRAY)"
   ]
  },
  {
   "cell_type": "code",
   "execution_count": 11,
   "id": "8ff88bf2-61d3-4190-8416-19ce0dc4ad42",
   "metadata": {},
   "outputs": [],
   "source": [
    "def translate_coords(coord1, coord2, span):\n",
    "    return [int(coord1 * span), int(coord2 * span)]\n",
    "    "
   ]
  },
  {
   "cell_type": "code",
   "execution_count": 16,
   "id": "e87ec4cf-c24e-44c5-a73f-63606433533e",
   "metadata": {},
   "outputs": [],
   "source": [
    "def unsharp_mask(image):\n",
    "    \"\"\"Soften an input image.\n",
    "\n",
    "    Parameters\n",
    "    ----------\n",
    "    image : numpy ndarray\n",
    "        The input image.\n",
    "\n",
    "    Returns\n",
    "    -------\n",
    "    numpy ndarray\n",
    "        The soften image.\n",
    "\n",
    "    \"\"\"\n",
    "    # perform GaussianBlur filter to use it in unsharpening mask\n",
    "    gaussian_3 = cv2.GaussianBlur(image, (9, 9), 10.0)\n",
    "    # calculates the weighted sum of two arrays (source image and GaussianBlur\n",
    "    # filter) to perform unsharpening mask\n",
    "    unsharp_image = cv2.addWeighted(image, 1.5, gaussian_3, -0.5, 0, image)\n",
    "    # return unsharpened image\n",
    "    return unsharp_image"
   ]
  },
  {
   "cell_type": "code",
   "execution_count": 65,
   "id": "59b4350e-b359-42ae-921d-2f5e79df4609",
   "metadata": {},
   "outputs": [],
   "source": [
    "cropped = img[slice(*translate_coords(testRect['y1'], testRect['y2'], source_image.shape[0])), slice(*translate_coords(testRect['x1'], testRect['x2'], source_image.shape[1]))]"
   ]
  },
  {
   "cell_type": "code",
   "execution_count": 66,
   "id": "a069b8db-9b8e-4135-b223-3f080eb4929c",
   "metadata": {
    "editable": true,
    "slideshow": {
     "slide_type": ""
    },
    "tags": []
   },
   "outputs": [
    {
     "data": {
      "text/plain": [
       "(25, 28)"
      ]
     },
     "execution_count": 66,
     "metadata": {},
     "output_type": "execute_result"
    }
   ],
   "source": [
    "cropped.shape"
   ]
  },
  {
   "cell_type": "code",
   "execution_count": 67,
   "id": "d4fd56eb-8963-466d-854e-9496e116c14b",
   "metadata": {},
   "outputs": [
    {
     "data": {
      "text/plain": [
       "True"
      ]
     },
     "execution_count": 67,
     "metadata": {},
     "output_type": "execute_result"
    }
   ],
   "source": [
    "cv2.imwrite(\"output_files/Step One Cropped.png\", cropped)"
   ]
  },
  {
   "cell_type": "code",
   "execution_count": 68,
   "id": "be412e23-c095-4149-889d-d2713bfd3c1c",
   "metadata": {},
   "outputs": [],
   "source": [
    "sharpened = unsharp_mask(cropped)"
   ]
  },
  {
   "cell_type": "code",
   "execution_count": 69,
   "id": "95500b79-fdcb-4e5c-bcbe-20ee971a4479",
   "metadata": {},
   "outputs": [
    {
     "data": {
      "text/plain": [
       "True"
      ]
     },
     "execution_count": 69,
     "metadata": {},
     "output_type": "execute_result"
    }
   ],
   "source": [
    "cv2.imwrite(\"output_files/Step Two Sharpened.png\", sharpened)"
   ]
  },
  {
   "cell_type": "code",
   "execution_count": 92,
   "id": "faf83cc6-4dff-45c2-ab85-033cfac420d7",
   "metadata": {},
   "outputs": [],
   "source": [
    "img = cv2.threshold(img, 127, 255, cv2.THRESH_BINARY)[1]"
   ]
  },
  {
   "cell_type": "code",
   "execution_count": 93,
   "id": "0b233ff7-56dc-4f9c-9ce5-8dfce5a02799",
   "metadata": {},
   "outputs": [],
   "source": [
    "blobs = img > img.mean()"
   ]
  },
  {
   "cell_type": "code",
   "execution_count": 94,
   "id": "a3d7db94-4043-4377-8254-f3eca1b87f17",
   "metadata": {},
   "outputs": [],
   "source": [
    "blobs_labels = measure.label(blobs, background=1)"
   ]
  },
  {
   "cell_type": "code",
   "execution_count": 95,
   "id": "fb4b5150-8df4-4090-8b1c-d87769e57c53",
   "metadata": {},
   "outputs": [],
   "source": [
    "image_label_overlay = color.label2rgb(blobs_labels, image=img)"
   ]
  },
  {
   "cell_type": "code",
   "execution_count": 96,
   "id": "986caf90-9761-4294-8cac-f7c0bb04c170",
   "metadata": {},
   "outputs": [
    {
     "data": {
      "text/plain": [
       "(792, 612)"
      ]
     },
     "execution_count": 96,
     "metadata": {},
     "output_type": "execute_result"
    }
   ],
   "source": [
    "img.shape"
   ]
  },
  {
   "cell_type": "code",
   "execution_count": 97,
   "id": "69e1c179-6197-404f-8752-7d831b6b074e",
   "metadata": {},
   "outputs": [
    {
     "name": "stderr",
     "output_type": "stream",
     "text": [
      "/var/folders/6x/1jtnwm815415bccq7hd68fvh0000gn/T/ipykernel_48736/3476875622.py:4: UserWarning: FigureCanvasAgg is non-interactive, and thus cannot be shown\n",
      "  fig.show()\n"
     ]
    },
    {
     "data": {
      "text/plain": [
       "<Figure size 640x480 with 0 Axes>"
      ]
     },
     "metadata": {},
     "output_type": "display_data"
    }
   ],
   "source": [
    "ax.imshow(image_label_overlay)\n",
    "ax.set_axis_off()\n",
    "plt.tight_layout()\n",
    "fig.show()"
   ]
  },
  {
   "cell_type": "code",
   "execution_count": 80,
   "id": "fa7e8a82-db73-40b8-9d70-561f3f9bc69f",
   "metadata": {},
   "outputs": [
    {
     "data": {
      "text/plain": [
       "<module 'matplotlib.pyplot' from '/Users/mikekilmer/.pyenv/versions/3.12.1/envs/pfsignatures/lib/python3.12/site-packages/matplotlib/pyplot.py'>"
      ]
     },
     "execution_count": 80,
     "metadata": {},
     "output_type": "execute_result"
    }
   ],
   "source": [
    "plt"
   ]
  },
  {
   "cell_type": "code",
   "execution_count": 53,
   "id": "72200209-8926-4647-bc31-d8062fd1f5ea",
   "metadata": {},
   "outputs": [],
   "source": [
    "the_biggest_component = 0\n",
    "total_area = 0\n",
    "counter = 0\n",
    "average = 0.0\n",
    "for region in measure.regionprops(blobs_labels):\n",
    "\t\tif (region.area > 10):\n",
    "\t\t\t\ttotal_area = total_area + region.area\n",
    "\t\t\t\tcounter = counter + 1\n",
    "\t\t# print region.area # (for debugging)\n",
    "\t\t# take regions with large enough areas\n",
    "\t\tif (region.area >= 10):\n",
    "\t\t\t\tif (region.area > the_biggest_component):\n",
    "\t\t\t\t\t\tthe_biggest_component = region.area"
   ]
  },
  {
   "cell_type": "code",
   "execution_count": 54,
   "id": "f0e3e63b-5ae0-4fa7-a7d7-df54f340ed55",
   "metadata": {},
   "outputs": [
    {
     "data": {
      "text/plain": [
       "357.0"
      ]
     },
     "execution_count": 54,
     "metadata": {},
     "output_type": "execute_result"
    }
   ],
   "source": [
    "the_biggest_component"
   ]
  }
 ],
 "metadata": {
  "kernelspec": {
   "display_name": "Python 3 (ipykernel)",
   "language": "python",
   "name": "python3"
  },
  "language_info": {
   "codemirror_mode": {
    "name": "ipython",
    "version": 3
   },
   "file_extension": ".py",
   "mimetype": "text/x-python",
   "name": "python",
   "nbconvert_exporter": "python",
   "pygments_lexer": "ipython3",
   "version": "3.12.1"
  }
 },
 "nbformat": 4,
 "nbformat_minor": 5
}
