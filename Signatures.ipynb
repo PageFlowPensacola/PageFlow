{
 "cells": [
  {
   "cell_type": "code",
   "execution_count": 6,
   "id": "0fc8da07-e1fe-41f6-a936-59930689233b",
   "metadata": {},
   "outputs": [],
   "source": [
    "import cv2"
   ]
  },
  {
   "cell_type": "code",
   "execution_count": 7,
   "id": "391756f6-4d97-4cdc-a73d-5937f7d58fe6",
   "metadata": {},
   "outputs": [],
   "source": [
    "testRect = {\n",
    "    \"audit_type\": \"rect\",\n",
    "    \"id\": 27,\n",
    "    \"page_number\": 1,\n",
    "    \"template_signatory_id\": 10,\n",
    "    \"x1\": 0.122898037659841,\n",
    "    \"x2\": 0.169011505478072,\n",
    "    \"y1\": 0.912442396313364,\n",
    "    \"y2\": 0.943205053865169\n",
    "}"
   ]
  },
  {
   "cell_type": "code",
   "execution_count": 9,
   "id": "20b3308d-544c-4c15-9d4c-cbba1c49173c",
   "metadata": {},
   "outputs": [],
   "source": [
    "source_image = cv2.imread(\"files/VacantLandContract - Signed [1] (1)-0.png\")\n"
   ]
  },
  {
   "cell_type": "code",
   "execution_count": 10,
   "id": "58a0870b-062b-4a83-aafd-9095f81c3270",
   "metadata": {},
   "outputs": [
    {
     "data": {
      "text/plain": [
       "(792, 612, 3)"
      ]
     },
     "execution_count": 10,
     "metadata": {},
     "output_type": "execute_result"
    }
   ],
   "source": [
    "source_image.shape"
   ]
  },
  {
   "cell_type": "code",
   "execution_count": null,
   "id": "143f2d5f-abdb-4c34-b055-31989d4eebf0",
   "metadata": {},
   "outputs": [],
   "source": []
  },
  {
   "cell_type": "code",
   "execution_count": 28,
   "id": "8ff88bf2-61d3-4190-8416-19ce0dc4ad42",
   "metadata": {},
   "outputs": [],
   "source": [
    "def translate_coords(coord1, coord2, span):\n",
    "    return [int(coord1 * span), int(coord2 * span)]\n",
    "    "
   ]
  },
  {
   "cell_type": "code",
   "execution_count": 32,
   "id": "59b4350e-b359-42ae-921d-2f5e79df4609",
   "metadata": {},
   "outputs": [],
   "source": [
    "cropped = source_image[slice(*translate_coords(testRect['y1'], testRect['y2'], source_image.shape[0])), slice(*translate_coords(testRect['x1'], testRect['x2'], source_image.shape[1]))]"
   ]
  },
  {
   "cell_type": "code",
   "execution_count": 34,
   "id": "a069b8db-9b8e-4135-b223-3f080eb4929c",
   "metadata": {
    "editable": true,
    "slideshow": {
     "slide_type": ""
    },
    "tags": []
   },
   "outputs": [
    {
     "data": {
      "text/plain": [
       "(25, 28, 3)"
      ]
     },
     "execution_count": 34,
     "metadata": {},
     "output_type": "execute_result"
    }
   ],
   "source": [
    "cropped.shape"
   ]
  },
  {
   "cell_type": "code",
   "execution_count": 4,
   "id": "d4fd56eb-8963-466d-854e-9496e116c14b",
   "metadata": {},
   "outputs": [
    {
     "ename": "NameError",
     "evalue": "name 'cv2' is not defined",
     "output_type": "error",
     "traceback": [
      "\u001b[0;31m---------------------------------------------------------------------------\u001b[0m",
      "\u001b[0;31mNameError\u001b[0m                                 Traceback (most recent call last)",
      "Cell \u001b[0;32mIn[4], line 1\u001b[0m\n\u001b[0;32m----> 1\u001b[0m \u001b[43mcv2\u001b[49m\u001b[38;5;241m.\u001b[39mimwrite(\u001b[38;5;124m\"\u001b[39m\u001b[38;5;124mStep One Cropped.png\u001b[39m\u001b[38;5;124m\"\u001b[39m, cropped)\n",
      "\u001b[0;31mNameError\u001b[0m: name 'cv2' is not defined"
     ]
    }
   ],
   "source": [
    "cv2.imwrite(\"Step One Cropped.png\", cropped)"
   ]
  },
  {
   "cell_type": "code",
   "execution_count": null,
   "id": "be412e23-c095-4149-889d-d2713bfd3c1c",
   "metadata": {},
   "outputs": [],
   "source": []
  }
 ],
 "metadata": {
  "kernelspec": {
   "display_name": "Python 3 (ipykernel)",
   "language": "python",
   "name": "python3"
  },
  "language_info": {
   "codemirror_mode": {
    "name": "ipython",
    "version": 3
   },
   "file_extension": ".py",
   "mimetype": "text/x-python",
   "name": "python",
   "nbconvert_exporter": "python",
   "pygments_lexer": "ipython3",
   "version": "3.12.1"
  }
 },
 "nbformat": 4,
 "nbformat_minor": 5
}
